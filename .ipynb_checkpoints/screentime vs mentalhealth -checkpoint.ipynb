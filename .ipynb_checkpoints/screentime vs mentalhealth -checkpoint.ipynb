{
 "cells": [
  {
   "cell_type": "code",
   "execution_count": 3,
   "id": "f132d0d1",
   "metadata": {},
   "outputs": [],
   "source": [
    "import pandas as pd "
   ]
  },
  {
   "cell_type": "code",
   "execution_count": 4,
   "id": "7d60903e-843e-4aa9-8990-b85496137e69",
   "metadata": {},
   "outputs": [
    {
     "data": {
      "text/html": [
       "<div>\n",
       "<style scoped>\n",
       "    .dataframe tbody tr th:only-of-type {\n",
       "        vertical-align: middle;\n",
       "    }\n",
       "\n",
       "    .dataframe tbody tr th {\n",
       "        vertical-align: top;\n",
       "    }\n",
       "\n",
       "    .dataframe thead th {\n",
       "        text-align: right;\n",
       "    }\n",
       "</style>\n",
       "<table border=\"1\" class=\"dataframe\">\n",
       "  <thead>\n",
       "    <tr style=\"text-align: right;\">\n",
       "      <th></th>\n",
       "      <th>User_ID</th>\n",
       "      <th>Age</th>\n",
       "      <th>Gender</th>\n",
       "      <th>Social_Media_Hours</th>\n",
       "      <th>Exercise_Hours</th>\n",
       "      <th>Sleep_Hours</th>\n",
       "      <th>Screen_Time_Hours</th>\n",
       "      <th>Survey_Stress_Score</th>\n",
       "      <th>Wearable_Stress_Score</th>\n",
       "      <th>Support_System</th>\n",
       "      <th>Academic_Performance</th>\n",
       "    </tr>\n",
       "  </thead>\n",
       "  <tbody>\n",
       "    <tr>\n",
       "      <th>0</th>\n",
       "      <td>1</td>\n",
       "      <td>16</td>\n",
       "      <td>F</td>\n",
       "      <td>9.654486</td>\n",
       "      <td>2.458001</td>\n",
       "      <td>5.198926</td>\n",
       "      <td>8.158189</td>\n",
       "      <td>3</td>\n",
       "      <td>0.288962</td>\n",
       "      <td>Moderate</td>\n",
       "      <td>Excellent</td>\n",
       "    </tr>\n",
       "    <tr>\n",
       "      <th>1</th>\n",
       "      <td>2</td>\n",
       "      <td>17</td>\n",
       "      <td>M</td>\n",
       "      <td>9.158143</td>\n",
       "      <td>0.392095</td>\n",
       "      <td>8.866097</td>\n",
       "      <td>5.151993</td>\n",
       "      <td>5</td>\n",
       "      <td>0.409446</td>\n",
       "      <td>Moderate</td>\n",
       "      <td>Good</td>\n",
       "    </tr>\n",
       "    <tr>\n",
       "      <th>2</th>\n",
       "      <td>3</td>\n",
       "      <td>15</td>\n",
       "      <td>M</td>\n",
       "      <td>5.028755</td>\n",
       "      <td>0.520119</td>\n",
       "      <td>4.943095</td>\n",
       "      <td>9.209325</td>\n",
       "      <td>2</td>\n",
       "      <td>0.423837</td>\n",
       "      <td>Moderate</td>\n",
       "      <td>Poor</td>\n",
       "    </tr>\n",
       "    <tr>\n",
       "      <th>3</th>\n",
       "      <td>4</td>\n",
       "      <td>17</td>\n",
       "      <td>F</td>\n",
       "      <td>7.951103</td>\n",
       "      <td>1.022630</td>\n",
       "      <td>5.262773</td>\n",
       "      <td>9.823658</td>\n",
       "      <td>5</td>\n",
       "      <td>0.666021</td>\n",
       "      <td>Moderate</td>\n",
       "      <td>Average</td>\n",
       "    </tr>\n",
       "    <tr>\n",
       "      <th>4</th>\n",
       "      <td>5</td>\n",
       "      <td>17</td>\n",
       "      <td>F</td>\n",
       "      <td>1.357459</td>\n",
       "      <td>1.225462</td>\n",
       "      <td>6.196080</td>\n",
       "      <td>11.338990</td>\n",
       "      <td>5</td>\n",
       "      <td>0.928060</td>\n",
       "      <td>High</td>\n",
       "      <td>Poor</td>\n",
       "    </tr>\n",
       "    <tr>\n",
       "      <th>...</th>\n",
       "      <td>...</td>\n",
       "      <td>...</td>\n",
       "      <td>...</td>\n",
       "      <td>...</td>\n",
       "      <td>...</td>\n",
       "      <td>...</td>\n",
       "      <td>...</td>\n",
       "      <td>...</td>\n",
       "      <td>...</td>\n",
       "      <td>...</td>\n",
       "      <td>...</td>\n",
       "    </tr>\n",
       "    <tr>\n",
       "      <th>4995</th>\n",
       "      <td>4996</td>\n",
       "      <td>14</td>\n",
       "      <td>M</td>\n",
       "      <td>0.088148</td>\n",
       "      <td>1.003339</td>\n",
       "      <td>8.684888</td>\n",
       "      <td>5.922202</td>\n",
       "      <td>1</td>\n",
       "      <td>0.750205</td>\n",
       "      <td>Moderate</td>\n",
       "      <td>Average</td>\n",
       "    </tr>\n",
       "    <tr>\n",
       "      <th>4996</th>\n",
       "      <td>4997</td>\n",
       "      <td>15</td>\n",
       "      <td>F</td>\n",
       "      <td>7.161276</td>\n",
       "      <td>1.024644</td>\n",
       "      <td>5.312684</td>\n",
       "      <td>10.224924</td>\n",
       "      <td>4</td>\n",
       "      <td>0.427209</td>\n",
       "      <td>Moderate</td>\n",
       "      <td>Excellent</td>\n",
       "    </tr>\n",
       "    <tr>\n",
       "      <th>4997</th>\n",
       "      <td>4998</td>\n",
       "      <td>14</td>\n",
       "      <td>M</td>\n",
       "      <td>3.444383</td>\n",
       "      <td>2.877972</td>\n",
       "      <td>9.227726</td>\n",
       "      <td>4.059322</td>\n",
       "      <td>4</td>\n",
       "      <td>0.002893</td>\n",
       "      <td>High</td>\n",
       "      <td>Good</td>\n",
       "    </tr>\n",
       "    <tr>\n",
       "      <th>4998</th>\n",
       "      <td>4999</td>\n",
       "      <td>18</td>\n",
       "      <td>F</td>\n",
       "      <td>7.866525</td>\n",
       "      <td>2.395839</td>\n",
       "      <td>4.317831</td>\n",
       "      <td>10.657076</td>\n",
       "      <td>2</td>\n",
       "      <td>0.612063</td>\n",
       "      <td>High</td>\n",
       "      <td>Average</td>\n",
       "    </tr>\n",
       "    <tr>\n",
       "      <th>4999</th>\n",
       "      <td>5000</td>\n",
       "      <td>18</td>\n",
       "      <td>M</td>\n",
       "      <td>3.389362</td>\n",
       "      <td>1.375646</td>\n",
       "      <td>8.693171</td>\n",
       "      <td>6.977589</td>\n",
       "      <td>5</td>\n",
       "      <td>0.952662</td>\n",
       "      <td>Moderate</td>\n",
       "      <td>Excellent</td>\n",
       "    </tr>\n",
       "  </tbody>\n",
       "</table>\n",
       "<p>5000 rows × 11 columns</p>\n",
       "</div>"
      ],
      "text/plain": [
       "      User_ID  Age Gender  Social_Media_Hours  Exercise_Hours  Sleep_Hours  \\\n",
       "0           1   16      F            9.654486        2.458001     5.198926   \n",
       "1           2   17      M            9.158143        0.392095     8.866097   \n",
       "2           3   15      M            5.028755        0.520119     4.943095   \n",
       "3           4   17      F            7.951103        1.022630     5.262773   \n",
       "4           5   17      F            1.357459        1.225462     6.196080   \n",
       "...       ...  ...    ...                 ...             ...          ...   \n",
       "4995     4996   14      M            0.088148        1.003339     8.684888   \n",
       "4996     4997   15      F            7.161276        1.024644     5.312684   \n",
       "4997     4998   14      M            3.444383        2.877972     9.227726   \n",
       "4998     4999   18      F            7.866525        2.395839     4.317831   \n",
       "4999     5000   18      M            3.389362        1.375646     8.693171   \n",
       "\n",
       "      Screen_Time_Hours  Survey_Stress_Score  Wearable_Stress_Score  \\\n",
       "0              8.158189                    3               0.288962   \n",
       "1              5.151993                    5               0.409446   \n",
       "2              9.209325                    2               0.423837   \n",
       "3              9.823658                    5               0.666021   \n",
       "4             11.338990                    5               0.928060   \n",
       "...                 ...                  ...                    ...   \n",
       "4995           5.922202                    1               0.750205   \n",
       "4996          10.224924                    4               0.427209   \n",
       "4997           4.059322                    4               0.002893   \n",
       "4998          10.657076                    2               0.612063   \n",
       "4999           6.977589                    5               0.952662   \n",
       "\n",
       "     Support_System Academic_Performance  \n",
       "0          Moderate            Excellent  \n",
       "1          Moderate                 Good  \n",
       "2          Moderate                 Poor  \n",
       "3          Moderate              Average  \n",
       "4              High                 Poor  \n",
       "...             ...                  ...  \n",
       "4995       Moderate              Average  \n",
       "4996       Moderate            Excellent  \n",
       "4997           High                 Good  \n",
       "4998           High              Average  \n",
       "4999       Moderate            Excellent  \n",
       "\n",
       "[5000 rows x 11 columns]"
      ]
     },
     "execution_count": 4,
     "metadata": {},
     "output_type": "execute_result"
    }
   ],
   "source": [
    "#loading dataset\n",
    "df = pd.read_csv('Data/mental_health_analysis.csv')\n",
    "df"
   ]
  },
  {
   "cell_type": "code",
   "execution_count": 5,
   "id": "24bc64d2-7061-4e59-bbe9-49fb047c4edf",
   "metadata": {},
   "outputs": [
    {
     "data": {
      "text/plain": [
       "Index(['User_ID', 'Age', 'Gender', 'Social_Media_Hours', 'Exercise_Hours',\n",
       "       'Sleep_Hours', 'Screen_Time_Hours', 'Survey_Stress_Score',\n",
       "       'Wearable_Stress_Score', 'Support_System', 'Academic_Performance'],\n",
       "      dtype='object')"
      ]
     },
     "execution_count": 5,
     "metadata": {},
     "output_type": "execute_result"
    }
   ],
   "source": [
    "df.columns"
   ]
  },
  {
   "cell_type": "markdown",
   "id": "68a44562",
   "metadata": {},
   "source": [
    "# \n",
    "Cleaning data"
   ]
  },
  {
   "cell_type": "code",
   "execution_count": 6,
   "id": "18c80494-9087-4e77-9896-a9b09ced82a3",
   "metadata": {},
   "outputs": [],
   "source": [
    "#only getting the ['Age', 'Survey_Stress_Score', 'Screen_Time_Hours'] coloumn \n",
    "new_df = df[['Age', 'Survey_Stress_Score', 'Screen_Time_Hours', 'User_ID']]"
   ]
  },
  {
   "cell_type": "code",
   "execution_count": 7,
   "id": "a5a005ab-baad-4679-ae39-9d62242ad6fb",
   "metadata": {},
   "outputs": [
    {
     "data": {
      "text/html": [
       "<div>\n",
       "<style scoped>\n",
       "    .dataframe tbody tr th:only-of-type {\n",
       "        vertical-align: middle;\n",
       "    }\n",
       "\n",
       "    .dataframe tbody tr th {\n",
       "        vertical-align: top;\n",
       "    }\n",
       "\n",
       "    .dataframe thead th {\n",
       "        text-align: right;\n",
       "    }\n",
       "</style>\n",
       "<table border=\"1\" class=\"dataframe\">\n",
       "  <thead>\n",
       "    <tr style=\"text-align: right;\">\n",
       "      <th></th>\n",
       "      <th>Age</th>\n",
       "      <th>Survey_Stress_Score</th>\n",
       "      <th>Screen_Time_Hours</th>\n",
       "      <th>User_ID</th>\n",
       "    </tr>\n",
       "  </thead>\n",
       "  <tbody>\n",
       "    <tr>\n",
       "      <th>0</th>\n",
       "      <td>16</td>\n",
       "      <td>3</td>\n",
       "      <td>8.158189</td>\n",
       "      <td>1</td>\n",
       "    </tr>\n",
       "    <tr>\n",
       "      <th>1</th>\n",
       "      <td>17</td>\n",
       "      <td>5</td>\n",
       "      <td>5.151993</td>\n",
       "      <td>2</td>\n",
       "    </tr>\n",
       "    <tr>\n",
       "      <th>2</th>\n",
       "      <td>15</td>\n",
       "      <td>2</td>\n",
       "      <td>9.209325</td>\n",
       "      <td>3</td>\n",
       "    </tr>\n",
       "    <tr>\n",
       "      <th>3</th>\n",
       "      <td>17</td>\n",
       "      <td>5</td>\n",
       "      <td>9.823658</td>\n",
       "      <td>4</td>\n",
       "    </tr>\n",
       "    <tr>\n",
       "      <th>4</th>\n",
       "      <td>17</td>\n",
       "      <td>5</td>\n",
       "      <td>11.338990</td>\n",
       "      <td>5</td>\n",
       "    </tr>\n",
       "    <tr>\n",
       "      <th>...</th>\n",
       "      <td>...</td>\n",
       "      <td>...</td>\n",
       "      <td>...</td>\n",
       "      <td>...</td>\n",
       "    </tr>\n",
       "    <tr>\n",
       "      <th>4995</th>\n",
       "      <td>14</td>\n",
       "      <td>1</td>\n",
       "      <td>5.922202</td>\n",
       "      <td>4996</td>\n",
       "    </tr>\n",
       "    <tr>\n",
       "      <th>4996</th>\n",
       "      <td>15</td>\n",
       "      <td>4</td>\n",
       "      <td>10.224924</td>\n",
       "      <td>4997</td>\n",
       "    </tr>\n",
       "    <tr>\n",
       "      <th>4997</th>\n",
       "      <td>14</td>\n",
       "      <td>4</td>\n",
       "      <td>4.059322</td>\n",
       "      <td>4998</td>\n",
       "    </tr>\n",
       "    <tr>\n",
       "      <th>4998</th>\n",
       "      <td>18</td>\n",
       "      <td>2</td>\n",
       "      <td>10.657076</td>\n",
       "      <td>4999</td>\n",
       "    </tr>\n",
       "    <tr>\n",
       "      <th>4999</th>\n",
       "      <td>18</td>\n",
       "      <td>5</td>\n",
       "      <td>6.977589</td>\n",
       "      <td>5000</td>\n",
       "    </tr>\n",
       "  </tbody>\n",
       "</table>\n",
       "<p>5000 rows × 4 columns</p>\n",
       "</div>"
      ],
      "text/plain": [
       "      Age  Survey_Stress_Score  Screen_Time_Hours  User_ID\n",
       "0      16                    3           8.158189        1\n",
       "1      17                    5           5.151993        2\n",
       "2      15                    2           9.209325        3\n",
       "3      17                    5           9.823658        4\n",
       "4      17                    5          11.338990        5\n",
       "...   ...                  ...                ...      ...\n",
       "4995   14                    1           5.922202     4996\n",
       "4996   15                    4          10.224924     4997\n",
       "4997   14                    4           4.059322     4998\n",
       "4998   18                    2          10.657076     4999\n",
       "4999   18                    5           6.977589     5000\n",
       "\n",
       "[5000 rows x 4 columns]"
      ]
     },
     "execution_count": 7,
     "metadata": {},
     "output_type": "execute_result"
    }
   ],
   "source": [
    "new_df"
   ]
  },
  {
   "cell_type": "code",
   "execution_count": 8,
   "id": "7e1d2dc1-ad6b-42dd-b595-9c5a98a11b5a",
   "metadata": {},
   "outputs": [
    {
     "name": "stderr",
     "output_type": "stream",
     "text": [
      "/var/folders/vw/pm30yvwx2j16k5b7q2hm828c0000gn/T/ipykernel_69931/2485562956.py:1: SettingWithCopyWarning: \n",
      "A value is trying to be set on a copy of a slice from a DataFrame.\n",
      "Try using .loc[row_indexer,col_indexer] = value instead\n",
      "\n",
      "See the caveats in the documentation: https://pandas.pydata.org/pandas-docs/stable/user_guide/indexing.html#returning-a-view-versus-a-copy\n",
      "  new_df['Screen_Time_Hours']= new_df['Screen_Time_Hours'].astype('int64')\n"
     ]
    }
   ],
   "source": [
    "new_df['Screen_Time_Hours']= new_df['Screen_Time_Hours'].astype('int64')"
   ]
  },
  {
   "cell_type": "code",
   "execution_count": 9,
   "id": "a2c60d28-d6a8-4527-92e7-e12e123e0d63",
   "metadata": {},
   "outputs": [
    {
     "data": {
      "text/html": [
       "<div>\n",
       "<style scoped>\n",
       "    .dataframe tbody tr th:only-of-type {\n",
       "        vertical-align: middle;\n",
       "    }\n",
       "\n",
       "    .dataframe tbody tr th {\n",
       "        vertical-align: top;\n",
       "    }\n",
       "\n",
       "    .dataframe thead th {\n",
       "        text-align: right;\n",
       "    }\n",
       "</style>\n",
       "<table border=\"1\" class=\"dataframe\">\n",
       "  <thead>\n",
       "    <tr style=\"text-align: right;\">\n",
       "      <th></th>\n",
       "      <th>Age</th>\n",
       "      <th>Survey_Stress_Score</th>\n",
       "      <th>Screen_Time_Hours</th>\n",
       "      <th>User_ID</th>\n",
       "    </tr>\n",
       "  </thead>\n",
       "  <tbody>\n",
       "    <tr>\n",
       "      <th>0</th>\n",
       "      <td>16</td>\n",
       "      <td>3</td>\n",
       "      <td>8</td>\n",
       "      <td>1</td>\n",
       "    </tr>\n",
       "    <tr>\n",
       "      <th>1</th>\n",
       "      <td>17</td>\n",
       "      <td>5</td>\n",
       "      <td>5</td>\n",
       "      <td>2</td>\n",
       "    </tr>\n",
       "    <tr>\n",
       "      <th>2</th>\n",
       "      <td>15</td>\n",
       "      <td>2</td>\n",
       "      <td>9</td>\n",
       "      <td>3</td>\n",
       "    </tr>\n",
       "    <tr>\n",
       "      <th>3</th>\n",
       "      <td>17</td>\n",
       "      <td>5</td>\n",
       "      <td>9</td>\n",
       "      <td>4</td>\n",
       "    </tr>\n",
       "    <tr>\n",
       "      <th>4</th>\n",
       "      <td>17</td>\n",
       "      <td>5</td>\n",
       "      <td>11</td>\n",
       "      <td>5</td>\n",
       "    </tr>\n",
       "    <tr>\n",
       "      <th>...</th>\n",
       "      <td>...</td>\n",
       "      <td>...</td>\n",
       "      <td>...</td>\n",
       "      <td>...</td>\n",
       "    </tr>\n",
       "    <tr>\n",
       "      <th>4995</th>\n",
       "      <td>14</td>\n",
       "      <td>1</td>\n",
       "      <td>5</td>\n",
       "      <td>4996</td>\n",
       "    </tr>\n",
       "    <tr>\n",
       "      <th>4996</th>\n",
       "      <td>15</td>\n",
       "      <td>4</td>\n",
       "      <td>10</td>\n",
       "      <td>4997</td>\n",
       "    </tr>\n",
       "    <tr>\n",
       "      <th>4997</th>\n",
       "      <td>14</td>\n",
       "      <td>4</td>\n",
       "      <td>4</td>\n",
       "      <td>4998</td>\n",
       "    </tr>\n",
       "    <tr>\n",
       "      <th>4998</th>\n",
       "      <td>18</td>\n",
       "      <td>2</td>\n",
       "      <td>10</td>\n",
       "      <td>4999</td>\n",
       "    </tr>\n",
       "    <tr>\n",
       "      <th>4999</th>\n",
       "      <td>18</td>\n",
       "      <td>5</td>\n",
       "      <td>6</td>\n",
       "      <td>5000</td>\n",
       "    </tr>\n",
       "  </tbody>\n",
       "</table>\n",
       "<p>5000 rows × 4 columns</p>\n",
       "</div>"
      ],
      "text/plain": [
       "      Age  Survey_Stress_Score  Screen_Time_Hours  User_ID\n",
       "0      16                    3                  8        1\n",
       "1      17                    5                  5        2\n",
       "2      15                    2                  9        3\n",
       "3      17                    5                  9        4\n",
       "4      17                    5                 11        5\n",
       "...   ...                  ...                ...      ...\n",
       "4995   14                    1                  5     4996\n",
       "4996   15                    4                 10     4997\n",
       "4997   14                    4                  4     4998\n",
       "4998   18                    2                 10     4999\n",
       "4999   18                    5                  6     5000\n",
       "\n",
       "[5000 rows x 4 columns]"
      ]
     },
     "execution_count": 9,
     "metadata": {},
     "output_type": "execute_result"
    }
   ],
   "source": [
    "new_df"
   ]
  },
  {
   "cell_type": "code",
   "execution_count": 10,
   "id": "34b95abd-a0bb-4bee-a075-e15cbde78fca",
   "metadata": {},
   "outputs": [
    {
     "data": {
      "text/plain": [
       "Age                    0\n",
       "Survey_Stress_Score    0\n",
       "Screen_Time_Hours      0\n",
       "User_ID                0\n",
       "dtype: int64"
      ]
     },
     "execution_count": 10,
     "metadata": {},
     "output_type": "execute_result"
    }
   ],
   "source": [
    "#checking for missing values\n",
    "new_df.isnull().sum()"
   ]
  },
  {
   "cell_type": "code",
   "execution_count": 11,
   "id": "9793d447-0be4-4cfe-8840-671d452a0360",
   "metadata": {},
   "outputs": [
    {
     "data": {
      "text/plain": [
       "0"
      ]
     },
     "execution_count": 11,
     "metadata": {},
     "output_type": "execute_result"
    }
   ],
   "source": [
    "#checking for duplicates \n",
    "new_df.duplicated().sum()"
   ]
  },
  {
   "cell_type": "code",
   "execution_count": 12,
   "id": "f4c55c60",
   "metadata": {},
   "outputs": [
    {
     "data": {
      "text/plain": [
       "0"
      ]
     },
     "execution_count": 12,
     "metadata": {},
     "output_type": "execute_result"
    }
   ],
   "source": [
    "#Count how many duplicate values exist in the User_ID column\n",
    "new_df['User_ID'].duplicated().sum()"
   ]
  },
  {
   "cell_type": "code",
   "execution_count": 13,
   "id": "678e98f4-98e3-4946-870d-f03cfcc2783b",
   "metadata": {},
   "outputs": [],
   "source": [
    "# droping user_Id column\n",
    "new_df = new_df.drop(\"User_ID\", axis=1)"
   ]
  },
  {
   "cell_type": "code",
   "execution_count": 14,
   "id": "2b5c3cef",
   "metadata": {},
   "outputs": [
    {
     "data": {
      "text/html": [
       "<div>\n",
       "<style scoped>\n",
       "    .dataframe tbody tr th:only-of-type {\n",
       "        vertical-align: middle;\n",
       "    }\n",
       "\n",
       "    .dataframe tbody tr th {\n",
       "        vertical-align: top;\n",
       "    }\n",
       "\n",
       "    .dataframe thead th {\n",
       "        text-align: right;\n",
       "    }\n",
       "</style>\n",
       "<table border=\"1\" class=\"dataframe\">\n",
       "  <thead>\n",
       "    <tr style=\"text-align: right;\">\n",
       "      <th></th>\n",
       "      <th>Age</th>\n",
       "      <th>Survey_Stress_Score</th>\n",
       "      <th>Screen_Time_Hours</th>\n",
       "    </tr>\n",
       "  </thead>\n",
       "  <tbody>\n",
       "    <tr>\n",
       "      <th>0</th>\n",
       "      <td>16</td>\n",
       "      <td>3</td>\n",
       "      <td>8</td>\n",
       "    </tr>\n",
       "    <tr>\n",
       "      <th>1</th>\n",
       "      <td>17</td>\n",
       "      <td>5</td>\n",
       "      <td>5</td>\n",
       "    </tr>\n",
       "    <tr>\n",
       "      <th>2</th>\n",
       "      <td>15</td>\n",
       "      <td>2</td>\n",
       "      <td>9</td>\n",
       "    </tr>\n",
       "    <tr>\n",
       "      <th>3</th>\n",
       "      <td>17</td>\n",
       "      <td>5</td>\n",
       "      <td>9</td>\n",
       "    </tr>\n",
       "    <tr>\n",
       "      <th>4</th>\n",
       "      <td>17</td>\n",
       "      <td>5</td>\n",
       "      <td>11</td>\n",
       "    </tr>\n",
       "    <tr>\n",
       "      <th>...</th>\n",
       "      <td>...</td>\n",
       "      <td>...</td>\n",
       "      <td>...</td>\n",
       "    </tr>\n",
       "    <tr>\n",
       "      <th>4995</th>\n",
       "      <td>14</td>\n",
       "      <td>1</td>\n",
       "      <td>5</td>\n",
       "    </tr>\n",
       "    <tr>\n",
       "      <th>4996</th>\n",
       "      <td>15</td>\n",
       "      <td>4</td>\n",
       "      <td>10</td>\n",
       "    </tr>\n",
       "    <tr>\n",
       "      <th>4997</th>\n",
       "      <td>14</td>\n",
       "      <td>4</td>\n",
       "      <td>4</td>\n",
       "    </tr>\n",
       "    <tr>\n",
       "      <th>4998</th>\n",
       "      <td>18</td>\n",
       "      <td>2</td>\n",
       "      <td>10</td>\n",
       "    </tr>\n",
       "    <tr>\n",
       "      <th>4999</th>\n",
       "      <td>18</td>\n",
       "      <td>5</td>\n",
       "      <td>6</td>\n",
       "    </tr>\n",
       "  </tbody>\n",
       "</table>\n",
       "<p>5000 rows × 3 columns</p>\n",
       "</div>"
      ],
      "text/plain": [
       "      Age  Survey_Stress_Score  Screen_Time_Hours\n",
       "0      16                    3                  8\n",
       "1      17                    5                  5\n",
       "2      15                    2                  9\n",
       "3      17                    5                  9\n",
       "4      17                    5                 11\n",
       "...   ...                  ...                ...\n",
       "4995   14                    1                  5\n",
       "4996   15                    4                 10\n",
       "4997   14                    4                  4\n",
       "4998   18                    2                 10\n",
       "4999   18                    5                  6\n",
       "\n",
       "[5000 rows x 3 columns]"
      ]
     },
     "execution_count": 14,
     "metadata": {},
     "output_type": "execute_result"
    }
   ],
   "source": [
    "new_df"
   ]
  },
  {
   "cell_type": "code",
   "execution_count": 15,
   "id": "a1c561b1-882d-4723-82b0-83b7f71ee2a5",
   "metadata": {},
   "outputs": [
    {
     "data": {
      "text/plain": [
       "Age                    int64\n",
       "Survey_Stress_Score    int64\n",
       "Screen_Time_Hours      int64\n",
       "dtype: object"
      ]
     },
     "execution_count": 15,
     "metadata": {},
     "output_type": "execute_result"
    }
   ],
   "source": [
    "new_df.dtypes\n"
   ]
  },
  {
   "cell_type": "code",
   "execution_count": 16,
   "id": "8e9b5f73",
   "metadata": {},
   "outputs": [
    {
     "data": {
      "text/plain": [
       "True"
      ]
     },
     "execution_count": 16,
     "metadata": {},
     "output_type": "execute_result"
    }
   ],
   "source": [
    "#checking for outliers \n",
    "#checking if there is score greater than the range\n",
    "(new_df[\"Survey_Stress_Score\"] >5).any() == False\n"
   ]
  },
  {
   "cell_type": "code",
   "execution_count": 17,
   "id": "8baa57e1",
   "metadata": {},
   "outputs": [],
   "source": [
    "# savind the clean data in data folder \n",
    "new_df.to_csv('Data/cleaned_mental_health_data.csv', index=False)\n",
    "\n"
   ]
  },
  {
   "cell_type": "markdown",
   "id": "21fe2c2d",
   "metadata": {},
   "source": [
    "# Visualization"
   ]
  },
  {
   "cell_type": "code",
   "execution_count": 18,
   "id": "e75d065d",
   "metadata": {},
   "outputs": [],
   "source": [
    "# importing libraries\n",
    "import seaborn as sns\n",
    "import pandas as pd\n",
    "import numpy as np\n",
    "import matplotlib.pyplot as plt"
   ]
  },
  {
   "cell_type": "code",
   "execution_count": 19,
   "id": "7719f517-f61e-4d1f-a58d-45996df3ae6c",
   "metadata": {},
   "outputs": [
    {
     "data": {
      "text/plain": [
       "<Axes: xlabel='Age', ylabel='Count'>"
      ]
     },
     "execution_count": 19,
     "metadata": {},
     "output_type": "execute_result"
    },
    {
     "data": {
      "image/png": "[encoded data removed]",
      "text/plain": [
       "<Figure size 640x480 with 1 Axes>"
      ]
     },
     "metadata": {},
     "output_type": "display_data"
    }
   ],
   "source": [
    "# making histograms so show how common/rare each value is for each column\n",
    "sns.histplot(new_df['Age'], kde = True)\n",
    "sns.histplot(new_df['Survey_Stress_Score'], kde = True)\n",
    "sns.histplot(new_df['Screen_Time_Hours'], kde = True)"
   ]
  },
  {
   "cell_type": "code",
   "execution_count": 20,
   "id": "73740876-10f2-4ac6-803a-123041d96203",
   "metadata": {},
   "outputs": [
    {
     "data": {
      "image/png": "[encoded data removed]",
      "text/plain": [
       "<Figure size 800x600 with 1 Axes>"
      ]
     },
     "metadata": {},
     "output_type": "display_data"
    }
   ],
   "source": [
    "# stress vs screen time scatter plot\n",
    "plt.figure(figsize=(8, 6))\n",
    "plt.scatter(new_df['Screen_Time_Hours'], new_df['Survey_Stress_Score'])\n",
    "plt.xlabel('Screen Time (Hours)')\n",
    "plt.ylabel('Stress Score')\n",
    "plt.title('Stress Score vs Screen Time')\n",
    "plt.show()"
   ]
  },
  {
   "cell_type": "code",
   "execution_count": 21,
   "id": "a89e4fdd-8a86-43f2-928d-050f7d627ad6",
   "metadata": {},
   "outputs": [
    {
     "data": {
      "image/png": "[encoded data removed]",
      "text/plain": [
       "<Figure size 800x600 with 1 Axes>"
      ]
     },
     "metadata": {},
     "output_type": "display_data"
    }
   ],
   "source": [
    "# age vs screen time\n",
    "plt.figure(figsize=(8, 6))\n",
    "plt.scatter(new_df['Age'], new_df['Screen_Time_Hours'])\n",
    "plt.xlabel('Age')\n",
    "plt.ylabel('Screen Time (Hours)')\n",
    "plt.title('Age vs Screen Time')\n",
    "plt.show()"
   ]
  },
  {
   "cell_type": "code",
   "execution_count": 22,
   "id": "588b92b6-b404-4f0a-b1af-c46ad4f5389c",
   "metadata": {},
   "outputs": [
    {
     "data": {
      "image/png": "[encoded data removed]",
      "text/plain": [
       "<Figure size 800x600 with 1 Axes>"
      ]
     },
     "metadata": {},
     "output_type": "display_data"
    }
   ],
   "source": [
    "# age vs stress score\n",
    "plt.figure(figsize=(8, 6))\n",
    "plt.scatter(new_df['Age'], new_df['Survey_Stress_Score'])\n",
    "plt.xlabel('Age')\n",
    "plt.ylabel('Stress Score')\n",
    "plt.title('Age vs Stress Score')\n",
    "plt.show()"
   ]
  },
  {
   "cell_type": "code",
   "execution_count": 23,
   "id": "cf69dc5b-a6ec-4b31-bfd8-68151eef09a9",
   "metadata": {},
   "outputs": [
    {
     "name": "stdout",
     "output_type": "stream",
     "text": [
      "Age                    15.4932\n",
      "Survey_Stress_Score     3.0158\n",
      "Screen_Time_Hours       6.5704\n",
      "dtype: float64\n",
      "Average Age: 15.4932\n",
      "Average Stress Score: 3.0158\n",
      "Average Screen Time: 6.5704\n"
     ]
    }
   ],
   "source": [
    "# print averages\n",
    "print(new_df.mean())\n",
    "# print averages for specific columns\n",
    "print(\"Average Age:\", new_df['Age'].mean())\n",
    "print(\"Average Stress Score:\", new_df['Survey_Stress_Score'].mean())\n",
    "print(\"Average Screen Time:\", new_df['Screen_Time_Hours'].mean())"
   ]
  },
  {
   "cell_type": "code",
   "execution_count": null,
   "id": "42de4033-38e6-41d9-ba22-cefd9fd8db12",
   "metadata": {},
   "outputs": [],
   "source": []
  }
 ],
 "metadata": {
  "kernelspec": {
   "display_name": "Python 3 (ipykernel)",
   "language": "python",
   "name": "python3"
  },
  "language_info": {
   "codemirror_mode": {
    "name": "ipython",
    "version": 3
   },
   "file_extension": ".py",
   "mimetype": "text/x-python",
   "name": "python",
   "nbconvert_exporter": "python",
   "pygments_lexer": "ipython3",
   "version": "3.9.13"
  }
 },
 "nbformat": 4,
 "nbformat_minor": 5
}
